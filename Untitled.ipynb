{
 "cells": [
  {
   "cell_type": "code",
   "execution_count": 287,
   "metadata": {},
   "outputs": [],
   "source": [
    "%matplotlib inline\n",
    "\n",
    "import numpy as np\n",
    "import math\n",
    "import random\n",
    "import matplotlib.pyplot as plt\n",
    "\n",
    "\n",
    "def initialize_arms(n_arms):\n",
    "    arms_list = []\n",
    "    for k in range(n_arms): \n",
    "        mu = k * 0.1 + 4\n",
    "        sigma = 0.1 * k\n",
    "        arms_list.append((mu, sigma))\n",
    "    return arms_list\n",
    "\n",
    "class Arm(object):\n",
    "    def __init__(self):\n",
    "        self.times_drawn = 0\n",
    "        self.mean = None\n",
    "        self.upper_bound = None\n",
    "\n",
    "    def update_arm_mean(self, reward, current_step):\n",
    "        self.times_drawn += 1\n",
    "        if self.mean is None:\n",
    "            self.mean = current_step\n",
    "        else:\n",
    "            self.mean = (\n",
    "                self.mean * (self.times_drawn - 1) + reward\n",
    "            ) / self.times_drawn\n",
    "        \n",
    "        self.update_upper_bound(current_step)\n",
    "\n",
    "        \n",
    "    def update_upper_bound(self, current_step):\n",
    "        if current_step == 0:\n",
    "            current_step = 1\n",
    "        c = 0.5\n",
    "        self.upper_bound = self.mean + c * math.sqrt((math.log(current_step) / 2*self.times_drawn))\n",
    "    \n",
    "def get_best_arm_index(arms):\n",
    "    best_index = [next((i, x) for i, x in enumerate(arms) if x.mean is not None)]\n",
    "    best_index = best_index[0][0]\n",
    "    for i in range(len(arms)):\n",
    "        if arms[i].mean is not None and arms[best_index].mean < arms[i].mean:\n",
    "            best_index = i\n",
    "    return best_index\n",
    "\n",
    "def plot_rewards(rewards):\n",
    "    for algo_rewards, label in rewards:\n",
    "        average_rewards = []\n",
    "        for j in range(1, len(algo_rewards)):\n",
    "            average_rewards.append(np.mean(algo_rewards[:j]))\n",
    "        plt.plot(average_rewards)\n",
    "    plt.legend([label for _, label in rewards], loc='lower right')\n",
    "    plt.xlabel('Steps')\n",
    "    plt.ylabel('Average reward')\n",
    "    plt.savefig('results.png')\n",
    "        \n",
    "    \n",
    "        \n",
    "\n",
    "if __name__ == '__main__':\n",
    "    n_arms = 10\n",
    "\n",
    "    arm_distribution = initialize_arms(n_arms)\n",
    "\n",
    "\n",
    "    rewards = e_greedy(arm_distribution)\n",
    "    \n"
   ]
  },
  {
   "cell_type": "code",
   "execution_count": 288,
   "metadata": {
    "collapsed": true
   },
   "outputs": [],
   "source": [
    "def e_greedy(arm_distribution, epsilon=0.1):\n",
    "    arms = [Arm() for x in range(len(arm_distribution))]\n",
    "    rewards = np.array([])\n",
    "\n",
    "    current_best_arm = None\n",
    "    total_reward = 0\n",
    "    for i in range(n_steps):\n",
    "        dice_roll = random.random()\n",
    "        if dice_roll < epsilon or i == 0:\n",
    "            # explore\n",
    "            random_arm = random.randint(0, 9)\n",
    "            mu, sigma = arm_distribution[random_arm]\n",
    "            reward = np.random.normal(mu, sigma, 1)[0]\n",
    "            if arms[random_arm].mean is None:\n",
    "                arms[random_arm].mean = reward\n",
    "                arms[random_arm].times_drawn = 1\n",
    "            else:\n",
    "                arms[random_arm].update_arm_mean(reward, i)\n",
    "            total_reward += reward\n",
    "        else:\n",
    "            # exploit\n",
    "            mu, sigma = arm_distribution[current_best_arm]\n",
    "            reward = np.random.normal(mu, sigma, 1)[0]\n",
    "            total_reward += reward\n",
    "            arms[current_best_arm].update_arm_mean(reward, i)\n",
    "\n",
    "        current_best_arm = get_best_arm_index(arms)\n",
    "        rewards = np.append(rewards, reward)\n",
    "        \n",
    "    return rewards"
   ]
  },
  {
   "cell_type": "code",
   "execution_count": 289,
   "metadata": {
    "collapsed": true
   },
   "outputs": [],
   "source": [
    "def optimistic_init_greedy(arm_distribution):\n",
    "    arms = [Arm() for x in range(len(arm_distribution))]\n",
    "    rewards = np.array([])\n",
    "    for arm in arms:\n",
    "        arm.mean = 1000\n",
    "\n",
    "    current_best_arm = random.randint(0, 9)\n",
    "    total_reward = 0\n",
    "    for i in range(n_steps):\n",
    "        mu, sigma = arm_distribution[current_best_arm]\n",
    "        reward = np.random.normal(mu, sigma, 1)[0]\n",
    "        total_reward += reward\n",
    "        arms[current_best_arm].update_arm_mean(reward, i)\n",
    "\n",
    "        current_best_arm = get_best_arm_index(arms)\n",
    "        rewards = np.append(rewards, reward)\n",
    "        \n",
    "    return rewards"
   ]
  },
  {
   "cell_type": "code",
   "execution_count": 290,
   "metadata": {
    "collapsed": true
   },
   "outputs": [],
   "source": [
    "def get_best_arm_index_by_ucb(arms):\n",
    "    best_index = [next((i, x) for i, x in enumerate(arms) if x.upper_bound is not None)]\n",
    "    best_index = best_index[0][0]\n",
    "    for i in range(len(arms)):\n",
    "        if arms[i].upper_bound is not None and arms[best_index].upper_bound < arms[i].upper_bound:\n",
    "            best_index = i\n",
    "    return best_index\n",
    "\n",
    "def update_upper_bounds(arms, current_step):\n",
    "    for arm in arms:\n",
    "        arm.update_upper_bound(current_step)\n",
    "\n",
    "def ucb(arm_distribution):\n",
    "    arms = [Arm() for x in range(len(arm_distribution))]\n",
    "    rewards = np.array([])\n",
    "    \n",
    "    current_best_arm = random.randint(0, 9)\n",
    "    total_reward = 0\n",
    "    for i in range(n_steps):\n",
    "        # start all arms\n",
    "        if i < len(arms):\n",
    "            mu, sigma = arm_distribution[current_best_arm]\n",
    "            reward = np.random.normal(mu, sigma, 1)[0]\n",
    "            total_reward += reward\n",
    "            arms[i].update_arm_mean(reward, i)\n",
    "            continue\n",
    "        else:\n",
    "            mu, sigma = arm_distribution[current_best_arm]\n",
    "            reward = np.random.normal(mu, sigma, 1)[0]\n",
    "            total_reward += reward\n",
    "            arms[current_best_arm].update_arm_mean(reward, i)\n",
    "\n",
    "            current_best_arm = get_best_arm_index_by_ucb(arms)\n",
    "            rewards = np.append(rewards, reward)\n",
    "            update_upper_bounds(arms, i)\n",
    "\n",
    "    return rewards"
   ]
  },
  {
   "cell_type": "code",
   "execution_count": 304,
   "metadata": {},
   "outputs": [
    {
     "data": {
      "image/png": "[encoded data removed]",
      "text/plain": [
       "<matplotlib.figure.Figure at 0x7f0191b3efd0>"
      ]
     },
     "metadata": {},
     "output_type": "display_data"
    }
   ],
   "source": [
    "n_steps = 30000\n",
    "\n",
    "rewards_e_01 = e_greedy(arm_distribution, epsilon=0.1)\n",
    "\n",
    "\n",
    "rewards_e_001 = e_greedy(arm_distribution, epsilon=0.01)\n",
    "\n",
    "rewards_optimistic_init_greedy = optimistic_init_greedy(arm_distribution)\n",
    "rewards_ucb = ucb(arm_distribution)\n",
    "\n",
    "\n",
    "plot_rewards([\n",
    "    (rewards_e_01, 'e=0.1'),\n",
    "    (rewards_e_001, 'e=0.01'),\n",
    "    (rewards_ucb, 'ucb'),\n",
    "    (rewards_optimistic_init_greedy, 'greedy')])"
   ]
  },
  {
   "cell_type": "code",
   "execution_count": null,
   "metadata": {
    "collapsed": true
   },
   "outputs": [],
   "source": []
  },
  {
   "cell_type": "code",
   "execution_count": null,
   "metadata": {
    "collapsed": true
   },
   "outputs": [],
   "source": []
  },
  {
   "cell_type": "code",
   "execution_count": null,
   "metadata": {
    "collapsed": true
   },
   "outputs": [],
   "source": []
  }
 ],
 "metadata": {
  "kernelspec": {
   "display_name": "Python 3",
   "language": "python",
   "name": "python3"
  },
  "language_info": {
   "codemirror_mode": {
    "name": "ipython",
    "version": 3
   },
   "file_extension": ".py",
   "mimetype": "text/x-python",
   "name": "python",
   "nbconvert_exporter": "python",
   "pygments_lexer": "ipython3",
   "version": "3.5.2"
  }
 },
 "nbformat": 4,
 "nbformat_minor": 2
}
